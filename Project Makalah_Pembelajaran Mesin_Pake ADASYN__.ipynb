{
 "cells": [
  {
   "cell_type": "code",
   "execution_count": 87,
   "id": "bf0cca5a",
   "metadata": {},
   "outputs": [],
   "source": [
    "import pandas as pd\n",
    "import seaborn as sns\n",
    "import matplotlib.pyplot as plt\n",
    "from sklearn.metrics import accuracy_score, classification_report, precision_recall_fscore_support\n",
    "from imblearn.over_sampling import ADASYN"
   ]
  },
  {
   "cell_type": "code",
   "execution_count": 88,
   "id": "b20bb5ef",
   "metadata": {},
   "outputs": [
    {
     "data": {
      "text/html": [
       "<div>\n",
       "<style scoped>\n",
       "    .dataframe tbody tr th:only-of-type {\n",
       "        vertical-align: middle;\n",
       "    }\n",
       "\n",
       "    .dataframe tbody tr th {\n",
       "        vertical-align: top;\n",
       "    }\n",
       "\n",
       "    .dataframe thead th {\n",
       "        text-align: right;\n",
       "    }\n",
       "</style>\n",
       "<table border=\"1\" class=\"dataframe\">\n",
       "  <thead>\n",
       "    <tr style=\"text-align: right;\">\n",
       "      <th></th>\n",
       "      <th>Retention Time</th>\n",
       "      <th>Intensity</th>\n",
       "      <th>m/z</th>\n",
       "      <th>Real_m/z</th>\n",
       "      <th>NamaSenyawa</th>\n",
       "      <th>RumusSenyawa</th>\n",
       "      <th>Status</th>\n",
       "    </tr>\n",
       "  </thead>\n",
       "  <tbody>\n",
       "    <tr>\n",
       "      <th>0</th>\n",
       "      <td>5.022</td>\n",
       "      <td>281952</td>\n",
       "      <td>60.057205</td>\n",
       "      <td>60.03236</td>\n",
       "      <td>Urea</td>\n",
       "      <td>CH4N2O</td>\n",
       "      <td>0</td>\n",
       "    </tr>\n",
       "    <tr>\n",
       "      <th>1</th>\n",
       "      <td>5.022</td>\n",
       "      <td>198032</td>\n",
       "      <td>60.246963</td>\n",
       "      <td>60.03236</td>\n",
       "      <td>Urea</td>\n",
       "      <td>CH4N2O</td>\n",
       "      <td>0</td>\n",
       "    </tr>\n",
       "    <tr>\n",
       "      <th>2</th>\n",
       "      <td>5.022</td>\n",
       "      <td>43064</td>\n",
       "      <td>66.888519</td>\n",
       "      <td>67.04220</td>\n",
       "      <td>Pyrrol</td>\n",
       "      <td>C4H5N</td>\n",
       "      <td>0</td>\n",
       "    </tr>\n",
       "    <tr>\n",
       "      <th>3</th>\n",
       "      <td>5.022</td>\n",
       "      <td>63172</td>\n",
       "      <td>67.268036</td>\n",
       "      <td>67.04220</td>\n",
       "      <td>Pyrrol</td>\n",
       "      <td>C4H5N</td>\n",
       "      <td>0</td>\n",
       "    </tr>\n",
       "    <tr>\n",
       "      <th>4</th>\n",
       "      <td>5.022</td>\n",
       "      <td>57852</td>\n",
       "      <td>68.280075</td>\n",
       "      <td>68.03745</td>\n",
       "      <td>Imidazole</td>\n",
       "      <td>C3H4N2</td>\n",
       "      <td>0</td>\n",
       "    </tr>\n",
       "  </tbody>\n",
       "</table>\n",
       "</div>"
      ],
      "text/plain": [
       "   Retention Time  Intensity        m/z  Real_m/z NamaSenyawa RumusSenyawa  \\\n",
       "0           5.022     281952  60.057205  60.03236        Urea       CH4N2O   \n",
       "1           5.022     198032  60.246963  60.03236        Urea       CH4N2O   \n",
       "2           5.022      43064  66.888519  67.04220      Pyrrol        C4H5N   \n",
       "3           5.022      63172  67.268036  67.04220      Pyrrol        C4H5N   \n",
       "4           5.022      57852  68.280075  68.03745   Imidazole       C3H4N2   \n",
       "\n",
       "   Status  \n",
       "0       0  \n",
       "1       0  \n",
       "2       0  \n",
       "3       0  \n",
       "4       0  "
      ]
     },
     "execution_count": 88,
     "metadata": {},
     "output_type": "execute_result"
    }
   ],
   "source": [
    "df = pd.read_csv('D:\\\\KULIAH\\\\Semester 5\\\\Pembelajaran Mesin\\\\Makalah\\\\U-BM 8-3_170818_11-Full.csv')\n",
    "# Menampilkan beberapa baris pertama dataset\n",
    "df.head()"
   ]
  },
  {
   "cell_type": "code",
   "execution_count": 89,
   "id": "008dd05c",
   "metadata": {},
   "outputs": [
    {
     "data": {
      "text/html": [
       "<div>\n",
       "<style scoped>\n",
       "    .dataframe tbody tr th:only-of-type {\n",
       "        vertical-align: middle;\n",
       "    }\n",
       "\n",
       "    .dataframe tbody tr th {\n",
       "        vertical-align: top;\n",
       "    }\n",
       "\n",
       "    .dataframe thead th {\n",
       "        text-align: right;\n",
       "    }\n",
       "</style>\n",
       "<table border=\"1\" class=\"dataframe\">\n",
       "  <thead>\n",
       "    <tr style=\"text-align: right;\">\n",
       "      <th></th>\n",
       "      <th>Retention Time</th>\n",
       "      <th>Intensity</th>\n",
       "      <th>m/z</th>\n",
       "      <th>Real_m/z</th>\n",
       "      <th>NamaSenyawa</th>\n",
       "      <th>RumusSenyawa</th>\n",
       "      <th>Status</th>\n",
       "    </tr>\n",
       "  </thead>\n",
       "  <tbody>\n",
       "    <tr>\n",
       "      <th>693</th>\n",
       "      <td>5.022</td>\n",
       "      <td>50628</td>\n",
       "      <td>434.008057</td>\n",
       "      <td>434.0679</td>\n",
       "      <td>PRZ_M435</td>\n",
       "      <td>NaN</td>\n",
       "      <td>0</td>\n",
       "    </tr>\n",
       "    <tr>\n",
       "      <th>5223</th>\n",
       "      <td>25.114</td>\n",
       "      <td>4124</td>\n",
       "      <td>433.881531</td>\n",
       "      <td>434.0679</td>\n",
       "      <td>PRZ_M435</td>\n",
       "      <td>NaN</td>\n",
       "      <td>0</td>\n",
       "    </tr>\n",
       "    <tr>\n",
       "      <th>11232</th>\n",
       "      <td>50.229</td>\n",
       "      <td>7433</td>\n",
       "      <td>433.818298</td>\n",
       "      <td>434.0679</td>\n",
       "      <td>PRZ_M435</td>\n",
       "      <td>NaN</td>\n",
       "      <td>0</td>\n",
       "    </tr>\n",
       "    <tr>\n",
       "      <th>13664</th>\n",
       "      <td>60.275</td>\n",
       "      <td>22849</td>\n",
       "      <td>433.818298</td>\n",
       "      <td>434.0679</td>\n",
       "      <td>PRZ_M435</td>\n",
       "      <td>NaN</td>\n",
       "      <td>0</td>\n",
       "    </tr>\n",
       "    <tr>\n",
       "      <th>14949</th>\n",
       "      <td>65.298</td>\n",
       "      <td>69580</td>\n",
       "      <td>433.818298</td>\n",
       "      <td>434.0679</td>\n",
       "      <td>PRZ_M435</td>\n",
       "      <td>NaN</td>\n",
       "      <td>0</td>\n",
       "    </tr>\n",
       "    <tr>\n",
       "      <th>...</th>\n",
       "      <td>...</td>\n",
       "      <td>...</td>\n",
       "      <td>...</td>\n",
       "      <td>...</td>\n",
       "      <td>...</td>\n",
       "      <td>...</td>\n",
       "      <td>...</td>\n",
       "    </tr>\n",
       "    <tr>\n",
       "      <th>644915</th>\n",
       "      <td>2305.560</td>\n",
       "      <td>26987</td>\n",
       "      <td>433.818298</td>\n",
       "      <td>434.0679</td>\n",
       "      <td>PRZ_M435</td>\n",
       "      <td>NaN</td>\n",
       "      <td>0</td>\n",
       "    </tr>\n",
       "    <tr>\n",
       "      <th>646121</th>\n",
       "      <td>2310.580</td>\n",
       "      <td>5525</td>\n",
       "      <td>433.944763</td>\n",
       "      <td>434.0679</td>\n",
       "      <td>PRZ_M435</td>\n",
       "      <td>NaN</td>\n",
       "      <td>0</td>\n",
       "    </tr>\n",
       "    <tr>\n",
       "      <th>650018</th>\n",
       "      <td>2325.650</td>\n",
       "      <td>31567</td>\n",
       "      <td>433.881531</td>\n",
       "      <td>434.0679</td>\n",
       "      <td>PRZ_M435</td>\n",
       "      <td>NaN</td>\n",
       "      <td>0</td>\n",
       "    </tr>\n",
       "    <tr>\n",
       "      <th>651260</th>\n",
       "      <td>2330.680</td>\n",
       "      <td>2732</td>\n",
       "      <td>433.944763</td>\n",
       "      <td>434.0679</td>\n",
       "      <td>PRZ_M435</td>\n",
       "      <td>NaN</td>\n",
       "      <td>0</td>\n",
       "    </tr>\n",
       "    <tr>\n",
       "      <th>654903</th>\n",
       "      <td>2370.860</td>\n",
       "      <td>8099</td>\n",
       "      <td>433.881531</td>\n",
       "      <td>434.0679</td>\n",
       "      <td>PRZ_M435</td>\n",
       "      <td>NaN</td>\n",
       "      <td>0</td>\n",
       "    </tr>\n",
       "  </tbody>\n",
       "</table>\n",
       "<p>312 rows × 7 columns</p>\n",
       "</div>"
      ],
      "text/plain": [
       "        Retention Time  Intensity         m/z  Real_m/z NamaSenyawa  \\\n",
       "693              5.022      50628  434.008057  434.0679    PRZ_M435   \n",
       "5223            25.114       4124  433.881531  434.0679    PRZ_M435   \n",
       "11232           50.229       7433  433.818298  434.0679    PRZ_M435   \n",
       "13664           60.275      22849  433.818298  434.0679    PRZ_M435   \n",
       "14949           65.298      69580  433.818298  434.0679    PRZ_M435   \n",
       "...                ...        ...         ...       ...         ...   \n",
       "644915        2305.560      26987  433.818298  434.0679    PRZ_M435   \n",
       "646121        2310.580       5525  433.944763  434.0679    PRZ_M435   \n",
       "650018        2325.650      31567  433.881531  434.0679    PRZ_M435   \n",
       "651260        2330.680       2732  433.944763  434.0679    PRZ_M435   \n",
       "654903        2370.860       8099  433.881531  434.0679    PRZ_M435   \n",
       "\n",
       "       RumusSenyawa  Status  \n",
       "693             NaN       0  \n",
       "5223            NaN       0  \n",
       "11232           NaN       0  \n",
       "13664           NaN       0  \n",
       "14949           NaN       0  \n",
       "...             ...     ...  \n",
       "644915          NaN       0  \n",
       "646121          NaN       0  \n",
       "650018          NaN       0  \n",
       "651260          NaN       0  \n",
       "654903          NaN       0  \n",
       "\n",
       "[312 rows x 7 columns]"
      ]
     },
     "execution_count": 89,
     "metadata": {},
     "output_type": "execute_result"
    }
   ],
   "source": [
    "#cleanning\n",
    "#missing data\n",
    "nan_data = df[df.isna().any(axis=1)]\n",
    "nan_data\n"
   ]
  },
  {
   "cell_type": "code",
   "execution_count": 90,
   "id": "515e4838",
   "metadata": {},
   "outputs": [
    {
     "data": {
      "text/plain": [
       "662916"
      ]
     },
     "execution_count": 90,
     "metadata": {},
     "output_type": "execute_result"
    }
   ],
   "source": [
    "df = df.dropna()\n",
    "len(df)"
   ]
  },
  {
   "cell_type": "code",
   "execution_count": 93,
   "id": "7cc37db3",
   "metadata": {},
   "outputs": [
    {
     "data": {
      "image/png": "[encoded data removed]",
      "text/plain": [
       "<Figure size 1500x800 with 4 Axes>"
      ]
     },
     "metadata": {},
     "output_type": "display_data"
    }
   ],
   "source": [
    "fig,axes = plt.subplots(2,2,figsize=(15,8))\n",
    "\n",
    "sns.histplot(data=df,x='Status', ax=axes[0,0], color='skyblue')\n",
    "sns.histplot(data=df,x='Intensity', ax=axes[0,1], color='skyblue')\n",
    "sns.histplot(data=df,x='Retention Time', ax=axes[1,0], color='skyblue')\n",
    "sns.histplot(data=df,x='NamaSenyawa', ax=axes[1,1], color='skyblue')\n",
    "plt.show()"
   ]
  },
  {
   "cell_type": "code",
   "execution_count": 94,
   "id": "4ae3da08",
   "metadata": {},
   "outputs": [],
   "source": [
    "from sklearn.preprocessing import LabelEncoder\n",
    "\n",
    "# Membuat instance dari LabelEncoder\n",
    "encoder = LabelEncoder()\n",
    "\n",
    "# Transformasi kolom-kolom tertentu\n",
    "df['NamaSenyawa'] = encoder.fit_transform(df['NamaSenyawa'].values)\n",
    "df['Status'] = encoder.fit_transform(df['Status'].values)\n",
    "df['Retention Time'] = encoder.fit_transform(df['Retention Time'].values)\n",
    "df['Intensity'] = encoder.fit_transform(df['Intensity'].values)\n",
    "df['RumusSenyawa'] = encoder.fit_transform(df['RumusSenyawa'].values)"
   ]
  },
  {
   "cell_type": "code",
   "execution_count": 95,
   "id": "4bce78b7",
   "metadata": {},
   "outputs": [],
   "source": [
    "x = df.drop(['Status'],axis=1)\n",
    "y = df['Status']"
   ]
  },
  {
   "cell_type": "code",
   "execution_count": 96,
   "id": "e9e3a1ce",
   "metadata": {},
   "outputs": [
    {
     "name": "stdout",
     "output_type": "stream",
     "text": [
      "(662916, 6)\n",
      "(662916,)\n"
     ]
    }
   ],
   "source": [
    "print(x.shape)\n",
    "print(y.shape)"
   ]
  },
  {
   "cell_type": "code",
   "execution_count": null,
   "id": "227d57c8",
   "metadata": {},
   "outputs": [],
   "source": [
    "\n"
   ]
  },
  {
   "cell_type": "code",
   "execution_count": 97,
   "id": "a352636c",
   "metadata": {},
   "outputs": [],
   "source": [
    "# Menggunakan ADASYN\n",
    "adasyn = ADASYN(sampling_strategy='minority', random_state=42, n_neighbors=5)\n",
    "x_sampling, y_sampling = adasyn.fit_resample(x, y)"
   ]
  },
  {
   "cell_type": "code",
   "execution_count": 98,
   "id": "655fd5c5",
   "metadata": {},
   "outputs": [
    {
     "name": "stdout",
     "output_type": "stream",
     "text": [
      "(1307266, 6)\n",
      "(1307266,)\n"
     ]
    }
   ],
   "source": [
    "print(x_sampling.shape)\n",
    "print(y_sampling.shape)"
   ]
  },
  {
   "cell_type": "code",
   "execution_count": 99,
   "id": "aee7b5aa",
   "metadata": {},
   "outputs": [
    {
     "data": {
      "image/png": "[encoded data removed]",
      "text/plain": [
       "<Figure size 900x600 with 1 Axes>"
      ]
     },
     "metadata": {},
     "output_type": "display_data"
    }
   ],
   "source": [
    "fig = plt.subplots(figsize=(9,6))\n",
    "sns.histplot(data=y_sampling)\n",
    "plt.show()"
   ]
  },
  {
   "cell_type": "code",
   "execution_count": 100,
   "id": "6c740a51",
   "metadata": {},
   "outputs": [],
   "source": [
    "from sklearn.model_selection import train_test_split\n",
    "from sklearn.neighbors import KNeighborsClassifier\n",
    "from sklearn.ensemble import BaggingClassifier\n",
    "from sklearn.metrics import accuracy_score, classification_report, confusion_matrix"
   ]
  },
  {
   "cell_type": "code",
   "execution_count": 101,
   "id": "98820c1a",
   "metadata": {},
   "outputs": [],
   "source": [
    "# Split the balanced dataset into training and testing sets\n",
    "x_train, x_test, y_train, y_test = train_test_split(x_sampling, y_sampling, test_size=0.2, random_state=43)"
   ]
  },
  {
   "cell_type": "code",
   "execution_count": 102,
   "id": "d2ac5577",
   "metadata": {},
   "outputs": [],
   "source": [
    "\n",
    "# Create a KNN classifier as the base estimator\n",
    "knn_classifier = KNeighborsClassifier(n_neighbors=3)"
   ]
  },
  {
   "cell_type": "code",
   "execution_count": null,
   "id": "e4997e0c",
   "metadata": {},
   "outputs": [
    {
     "name": "stderr",
     "output_type": "stream",
     "text": [
      "C:\\Users\\asus\\anaconda3\\Lib\\site-packages\\sklearn\\ensemble\\_base.py:156: FutureWarning: `base_estimator` was renamed to `estimator` in version 1.2 and will be removed in 1.4.\n",
      "  warnings.warn(\n"
     ]
    }
   ],
   "source": [
    "# Create an ensemble of KNN classifiers using bagging\n",
    "ensemble_classifier = BaggingClassifier(base_estimator=knn_classifier, n_estimators=10, random_state=43)\n",
    "\n",
    "# Train the ensemble on the training data\n",
    "ensemble_classifier.fit(x_train, y_train)\n",
    "\n",
    "# Make predictions on the test data\n",
    "ensemble_predictions = ensemble_classifier.predict(x_test)\n",
    "\n",
    "# Evaluate the performance of the ensemble\n",
    "accuracy = accuracy_score(y_test, ensemble_predictions)\n",
    "print(f'Ensemble Accuracy: {accuracy:.2f}')\n",
    "\n",
    "# Display the classification report\n",
    "print(\"Classification Report:\")\n",
    "print(classification_report(y_test, ensemble_predictions))\n",
    "\n",
    "# Display the confusion matrix\n",
    "print(\"Confusion Matrix:\")\n",
    "print(confusion_matrix(y_test, ensemble_predictions))"
   ]
  },
  {
   "cell_type": "code",
   "execution_count": 108,
   "id": "43d9f06f",
   "metadata": {},
   "outputs": [
    {
     "name": "stdout",
     "output_type": "stream",
     "text": [
      "Overall Precision: 0.9802375452325456\n",
      "Overall Recall: 0.9794457151162346\n",
      "Overall F1 Score: 0.9794376136360131\n",
      "Overall Support: None\n",
      "Overall Accuracy: 0.9794457151162346\n"
     ]
    }
   ],
   "source": [
    "# Calculate overall precision, recall, F1 score, and support\n",
    "overall_metrics = precision_recall_fscore_support(y_test, ensemble_predictions, average='weighted')\n",
    "overall_precision, overall_recall, overall_f1, overall_support = overall_metrics\n",
    "print(f'Overall Precision: {overall_precision}')\n",
    "print(f'Overall Recall: {overall_recall}')\n",
    "print(f'Overall F1 Score: {overall_f1}')\n",
    "print(f'Overall Support: {overall_support}')\n",
    "overall_accuracy = accuracy_score(y_test, ensemble_predictions)\n",
    "print(f'Overall Accuracy: {overall_accuracy}')"
   ]
  },
  {
   "cell_type": "code",
   "execution_count": 107,
   "id": "d3b2fa88",
   "metadata": {},
   "outputs": [
    {
     "name": "stdout",
     "output_type": "stream",
     "text": [
      "Classification Report:\n",
      "               precision    recall  f1-score   support\n",
      "\n",
      "           0       1.00      0.96      0.98    130842\n",
      "           1       0.96      1.00      0.98    130612\n",
      "\n",
      "    accuracy                           0.98    261454\n",
      "   macro avg       0.98      0.98      0.98    261454\n",
      "weighted avg       0.98      0.98      0.98    261454\n",
      "\n"
     ]
    }
   ],
   "source": [
    "classification_rep = classification_report(y_test, ensemble_predictions, target_names=['0', '1'])\n",
    "print('Classification Report:\\n', classification_rep)"
   ]
  },
  {
   "cell_type": "code",
   "execution_count": null,
   "id": "0a72eb19",
   "metadata": {},
   "outputs": [],
   "source": []
  }
 ],
 "metadata": {
  "kernelspec": {
   "display_name": "Python 3 (ipykernel)",
   "language": "python",
   "name": "python3"
  },
  "language_info": {
   "codemirror_mode": {
    "name": "ipython",
    "version": 3
   },
   "file_extension": ".py",
   "mimetype": "text/x-python",
   "name": "python",
   "nbconvert_exporter": "python",
   "pygments_lexer": "ipython3",
   "version": "3.11.4"
  }
 },
 "nbformat": 4,
 "nbformat_minor": 5
}
