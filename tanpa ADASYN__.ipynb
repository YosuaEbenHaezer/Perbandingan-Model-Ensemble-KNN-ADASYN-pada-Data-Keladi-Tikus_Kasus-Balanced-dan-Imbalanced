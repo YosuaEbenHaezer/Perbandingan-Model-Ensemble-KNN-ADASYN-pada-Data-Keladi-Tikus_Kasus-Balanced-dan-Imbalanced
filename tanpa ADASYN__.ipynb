{
 "cells": [
  {
   "cell_type": "code",
   "execution_count": 55,
   "id": "fd94da99",
   "metadata": {},
   "outputs": [],
   "source": [
    "# Import necessary libraries\n",
    "import pandas as pd\n",
    "from sklearn.model_selection import train_test_split\n",
    "from sklearn.ensemble import BaggingClassifier\n",
    "from sklearn.neighbors import KNeighborsClassifier\n",
    "from sklearn.metrics import accuracy_score, classification_report, precision_recall_fscore_support"
   ]
  },
  {
   "cell_type": "code",
   "execution_count": 56,
   "id": "429761ce",
   "metadata": {},
   "outputs": [],
   "source": [
    "# Load the dataset\n",
    "df = pd.read_csv('D:\\\\KULIAH\\\\Semester 5\\\\Pembelajaran Mesin\\\\Makalah\\\\U-BM 8-3_170818_11-Full.csv')"
   ]
  },
  {
   "cell_type": "code",
   "execution_count": 57,
   "id": "73c6d916",
   "metadata": {},
   "outputs": [],
   "source": [
    "from sklearn.preprocessing import LabelEncoder\n",
    "\n",
    "# Membuat instance dari LabelEncoder\n",
    "encoder = LabelEncoder()\n",
    "\n",
    "# Transformasi kolom-kolom tertentu\n",
    "df['NamaSenyawa'] = encoder.fit_transform(df['NamaSenyawa'].values)\n",
    "df['Status'] = encoder.fit_transform(df['Status'].values)\n",
    "df['Retention Time'] = encoder.fit_transform(df['Retention Time'].values)\n",
    "df['Intensity'] = encoder.fit_transform(df['Intensity'].values)\n",
    "df['RumusSenyawa'] = encoder.fit_transform(df['RumusSenyawa'].values)"
   ]
  },
  {
   "cell_type": "code",
   "execution_count": 58,
   "id": "2dfd21a9",
   "metadata": {},
   "outputs": [],
   "source": [
    "# Assuming the target variable is in the 'target_column' column\n",
    "X = df.drop(['Status'],axis=1)\n",
    "y = df['Status']"
   ]
  },
  {
   "cell_type": "code",
   "execution_count": 59,
   "id": "421cd58d",
   "metadata": {},
   "outputs": [],
   "source": [
    "# Split the data into training and testing sets\n",
    "X_train, X_test, y_train, y_test = train_test_split(X, y, test_size=0.2, random_state=43)"
   ]
  },
  {
   "cell_type": "code",
   "execution_count": 60,
   "id": "3cc3352b",
   "metadata": {},
   "outputs": [],
   "source": [
    "# Define the base KNN classifier\n",
    "knn_classifier = KNeighborsClassifier(n_neighbors=3)"
   ]
  },
  {
   "cell_type": "code",
   "execution_count": 61,
   "id": "10f5849f",
   "metadata": {},
   "outputs": [
    {
     "name": "stderr",
     "output_type": "stream",
     "text": [
      "C:\\Users\\asus\\anaconda3\\Lib\\site-packages\\sklearn\\ensemble\\_base.py:156: FutureWarning: `base_estimator` was renamed to `estimator` in version 1.2 and will be removed in 1.4.\n",
      "  warnings.warn(\n"
     ]
    },
    {
     "name": "stdout",
     "output_type": "stream",
     "text": [
      "Ensemble KNN Accuracy: 0.9881790630701265\n",
      "Classification Report:\n",
      "               precision    recall  f1-score   support\n",
      "\n",
      "           0       0.99      1.00      0.99    130769\n",
      "           1       0.65      0.36      0.46      1877\n",
      "\n",
      "    accuracy                           0.99    132646\n",
      "   macro avg       0.82      0.68      0.73    132646\n",
      "weighted avg       0.99      0.99      0.99    132646\n",
      "\n"
     ]
    }
   ],
   "source": [
    "# Define the bagging classifier with the KNN base classifier\n",
    "bagging_classifier = BaggingClassifier(base_estimator=knn_classifier, n_estimators=10, random_state=43)\n",
    "\n",
    "# Train the bagging classifier on the training data\n",
    "bagging_classifier.fit(X_train, y_train)\n",
    "\n",
    "# Make predictions on the test set\n",
    "y_pred = bagging_classifier.predict(X_test)\n",
    "\n",
    "# Calculate accuracy\n",
    "accuracy = accuracy_score(y_test, y_pred)\n",
    "print(f'Ensemble KNN Accuracy: {accuracy}')\n",
    "\n",
    "# Calculate precision, recall, F1 score, and support for each class\n",
    "classification_rep = classification_report(y_test, y_pred)\n",
    "print('Classification Report:\\n', classification_rep)"
   ]
  },
  {
   "cell_type": "code",
   "execution_count": 62,
   "id": "9c51aae0",
   "metadata": {},
   "outputs": [
    {
     "name": "stdout",
     "output_type": "stream",
     "text": [
      "Overall Precision: 0.9860341674019723\n",
      "Overall Recall: 0.9881790630701265\n",
      "Overall F1 Score: 0.9865251704815963\n",
      "Overall Support: None\n",
      "Overall Accuracy: 0.9881790630701265\n"
     ]
    }
   ],
   "source": [
    "# Calculate overall precision, recall, F1 score, and support\n",
    "overall_metrics = precision_recall_fscore_support(y_test, y_pred, average='weighted')\n",
    "overall_precision, overall_recall, overall_f1, overall_support = overall_metrics\n",
    "print(f'Overall Precision: {overall_precision}')\n",
    "print(f'Overall Recall: {overall_recall}')\n",
    "print(f'Overall F1 Score: {overall_f1}')\n",
    "print(f'Overall Support: {overall_support}')\n",
    "overall_accuracy = accuracy_score(y_test, y_pred)\n",
    "print(f'Overall Accuracy: {overall_accuracy}')"
   ]
  },
  {
   "cell_type": "code",
   "execution_count": null,
   "id": "7ee42521",
   "metadata": {},
   "outputs": [],
   "source": []
  }
 ],
 "metadata": {
  "kernelspec": {
   "display_name": "Python 3 (ipykernel)",
   "language": "python",
   "name": "python3"
  },
  "language_info": {
   "codemirror_mode": {
    "name": "ipython",
    "version": 3
   },
   "file_extension": ".py",
   "mimetype": "text/x-python",
   "name": "python",
   "nbconvert_exporter": "python",
   "pygments_lexer": "ipython3",
   "version": "3.11.4"
  }
 },
 "nbformat": 4,
 "nbformat_minor": 5
}
